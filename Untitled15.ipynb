{
  "nbformat": 4,
  "nbformat_minor": 0,
  "metadata": {
    "colab": {
      "provenance": []
    },
    "kernelspec": {
      "name": "python3",
      "display_name": "Python 3"
    },
    "language_info": {
      "name": "python"
    }
  },
  "cells": [
    {
      "cell_type": "code",
      "execution_count": null,
      "metadata": {
        "colab": {
          "base_uri": "https://localhost:8080/"
        },
        "id": "v363coz6xuTL",
        "outputId": "7776ce9e-20d0-4f12-dcda-4450efd556c1"
      },
      "outputs": [
        {
          "output_type": "stream",
          "name": "stdout",
          "text": [
            "   User_id Gender   Favorite_genres  Ratings  Unnamed: 4\n",
            "0      101      F    Action, Comedy      8.7         NaN\n",
            "1      102      M   Drama, Thriller      9.1         NaN\n",
            "2      103      F   Romance, Comedy      9.8         NaN\n",
            "3      104      M    Sci-Fi, Action      8.5         NaN\n",
            "4      105      F  Horror, Thriller      7.4         NaN\n"
          ]
        }
      ],
      "source": [
        "import pandas as pd\n",
        "from sklearn.feature_extraction.text import TfidfVectorizer\n",
        "from sklearn.metrics.pairwise import cosine_similarity\n",
        "\n",
        "# Load CSV file\n",
        "file_path = 'dhinoshni.csv'\n",
        "df = pd.read_csv(file_path)\n",
        "\n",
        "# Preview data\n",
        "print(df.head())\n",
        "\n",
        "# Step 1: Vectorize genres using TF-IDF\n",
        "vectorizer = TfidfVectorizer(stop_words='english')"
      ]
    },
    {
      "cell_type": "code",
      "source": [],
      "metadata": {
        "id": "8Rl1CWAvTZM1"
      },
      "execution_count": null,
      "outputs": []
    }
  ]
}